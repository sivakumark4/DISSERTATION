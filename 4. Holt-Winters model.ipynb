{
 "cells": [
  {
   "cell_type": "code",
   "execution_count": null,
   "id": "d96735e4",
   "metadata": {},
   "outputs": [],
   "source": [
    "# Importing necessary libraries\n",
    "import pandas as pd\n",
    "import numpy as np\n",
    "from statsmodels.tsa.holtwinters import ExponentialSmoothing\n",
    "from sklearn.metrics import mean_absolute_error\n",
    "import warnings"
   ]
  },
  {
   "cell_type": "markdown",
   "id": "5827785c",
   "metadata": {},
   "source": [
    "## 4. Holt-Winters model"
   ]
  },
  {
   "cell_type": "markdown",
   "id": "08951d03",
   "metadata": {},
   "source": [
    "### 4.1.One day ahead forecasting using Holt-Winters Model for the month of APRIL 2021:"
   ]
  },
  {
   "cell_type": "markdown",
   "id": "abc7a7f5",
   "metadata": {},
   "source": [
    "we will use this code to check the accuracy of the Holt-Winters model model to compare with(ANN,SARIMA AND SARIMAX) other models .  we are doing this to select the best two models among SARIMA, ANN,SARIMAX AND Holt-Winters model."
   ]
  },
  {
   "cell_type": "code",
   "execution_count": 2,
   "id": "9ce1e313",
   "metadata": {},
   "outputs": [
    {
     "name": "stdout",
     "output_type": "stream",
     "text": [
      "Loading data...\n",
      "Performing one-day-ahead forecasting with Holt-Winters...\n",
      "\n",
      "Mean Absolute Deviation (MAD): 681.06\n",
      "Mean Absolute Percentage Error (MAPE): 6.88%\n",
      "\n",
      "Sample One-Day-Ahead Forecasts:\n",
      "        Date and Time      Forecast   Actual\n",
      "0 2021-04-01 00:00:00  10388.328804  10326.0\n",
      "1 2021-04-01 00:30:00  10089.010864  10029.0\n",
      "2 2021-04-01 01:00:00   9777.440175   9732.0\n",
      "3 2021-04-01 01:30:00   9549.727248   9585.5\n",
      "4 2021-04-01 02:00:00   9346.476810   9439.0\n"
     ]
    }
   ],
   "source": [
    "# Suppress warnings\n",
    "warnings.filterwarnings(\"ignore\", message=\"Optimization failed to converge\")\n",
    "\n",
    "\n",
    "# Loading data\n",
    "file_path = 'Database_1_capped.csv'  # Update with your file path\n",
    "print(\"Loading data...\")\n",
    "data = pd.read_csv(file_path)\n",
    "\n",
    "# Converting 'Date and Time' to datetime \n",
    "data['Date and Time'] = pd.to_datetime(data['Date and Time'], format='%d/%m/%Y %H:%M', errors='coerce')\n",
    "data.dropna(subset=['Date and Time'], inplace=True)\n",
    "data.set_index('Date and Time', inplace=True)\n",
    "data = data.asfreq('30T')  \n",
    "\n",
    "# Defining target variable\n",
    "target = 'Demand_Capped'\n",
    "\n",
    "# Splitting the data into training and testing sets\n",
    "train_start = '2020-04-01'\n",
    "train_end = '2021-03-31'\n",
    "test_start = '2021-04-01'\n",
    "test_end = '2021-04-30'\n",
    "\n",
    "train_data = data.loc[train_start:train_end][target]\n",
    "test_data = data.loc[test_start:test_end][target]\n",
    "\n",
    "# Initializing storage for forecasts\n",
    "one_day_forecasts = []\n",
    "\n",
    "# Forecasting one day at a time\n",
    "print(\"Performing one-day-ahead forecasting with Holt-Winters...\")\n",
    "current_date = pd.to_datetime(test_start)\n",
    "while current_date <= pd.to_datetime(test_end):\n",
    "    # Defining the forecast range for the next day (48 intervals for one day)\n",
    "    forecast_range = pd.date_range(current_date, periods=48, freq='30T')\n",
    "\n",
    "    # Fitting Holt-Winters model to the training data\n",
    "    try:\n",
    "        hw_model = ExponentialSmoothing(\n",
    "            train_data, \n",
    "            seasonal='add', \n",
    "            seasonal_periods=48  # Daily seasonality for 30-minute intervals\n",
    "        ).fit()  # No extra parameters\n",
    "    except ValueError as e:\n",
    "        print(f\"Error fitting Holt-Winters model: {e}\")\n",
    "        break\n",
    "\n",
    "    # Forecasting for the current day\n",
    "    daily_forecast = hw_model.forecast(steps=48)\n",
    "    daily_forecast.index = forecast_range\n",
    "\n",
    "    # Storing predictions\n",
    "    one_day_forecasts.append(pd.DataFrame({\n",
    "        'Date and Time': forecast_range,\n",
    "        'Forecast': daily_forecast.values\n",
    "    }))\n",
    "\n",
    "    # Updating the training data with the actual observations\n",
    "    train_data = pd.concat([train_data, test_data.loc[forecast_range]])\n",
    "\n",
    "    # Moving to the next day\n",
    "    current_date += pd.Timedelta(days=1)\n",
    "\n",
    "# Combining all forecasts\n",
    "one_day_forecasts = pd.concat(one_day_forecasts)\n",
    "\n",
    "# Merging forecasts with actual values for evaluation\n",
    "results = one_day_forecasts.copy()\n",
    "results['Actual'] = results['Date and Time'].map(test_data)\n",
    "\n",
    "# Dropping rows where actual values are missing\n",
    "results.dropna(subset=['Actual'], inplace=True)\n",
    "\n",
    "# Calculating evaluation metrics\n",
    "mad = mean_absolute_error(results['Actual'], results['Forecast'])\n",
    "mape = np.mean(np.abs((results['Actual'] - results['Forecast']) / results['Actual'])) * 100\n",
    "\n",
    "# Printing evaluation metrics\n",
    "print(f\"\\nMean Absolute Deviation (MAD): {mad:.2f}\")\n",
    "print(f\"Mean Absolute Percentage Error (MAPE): {mape:.2f}%\")\n",
    "\n",
    "# Saving results\n",
    "results.to_csv('holt_winters_forecast_results.csv', index=False)\n",
    "\n",
    "# Printing sample forecasts\n",
    "print(\"\\nSample One-Day-Ahead Forecasts:\")\n",
    "print(results.head())\n"
   ]
  },
  {
   "cell_type": "markdown",
   "id": "44e29387",
   "metadata": {},
   "source": [
    "### We got Mean Absolute Deviation (MAD): 681.06 and Mean Absolute Percentage Error (MAPE): 6.88% for  Holt-Winters model."
   ]
  },
  {
   "cell_type": "markdown",
   "id": "7575234b",
   "metadata": {},
   "source": [
    "its not performing well compared to other models so we are excluding this from inclusion in hybrid model."
   ]
  }
 ],
 "metadata": {
  "kernelspec": {
   "display_name": "Python 3 (ipykernel)",
   "language": "python",
   "name": "python3"
  },
  "language_info": {
   "codemirror_mode": {
    "name": "ipython",
    "version": 3
   },
   "file_extension": ".py",
   "mimetype": "text/x-python",
   "name": "python",
   "nbconvert_exporter": "python",
   "pygments_lexer": "ipython3",
   "version": "3.11.5"
  }
 },
 "nbformat": 4,
 "nbformat_minor": 5
}
