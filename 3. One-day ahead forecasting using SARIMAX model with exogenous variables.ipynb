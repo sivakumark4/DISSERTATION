{
 "cells": [
  {
   "cell_type": "code",
   "execution_count": null,
   "id": "89ef0d3b",
   "metadata": {},
   "outputs": [],
   "source": [
    "# Importing necessary libraries\n",
    "import pandas as pd\n",
    "import numpy as np\n",
    "from statsmodels.tsa.statespace.sarimax import SARIMAX\n",
    "from sklearn.metrics import mean_absolute_error\n",
    "from datetime import timedelta\n",
    "import warnings"
   ]
  },
  {
   "cell_type": "markdown",
   "id": "2b9bb5fd",
   "metadata": {},
   "source": [
    "## 3. SARIMAX MODEL with exogenous variables"
   ]
  },
  {
   "cell_type": "markdown",
   "id": "7562106d",
   "metadata": {},
   "source": [
    "### 3.1. One-day ahead forecasting using SARIMAX model with exogenous variables for the month of APRIL:\n"
   ]
  },
  {
   "cell_type": "markdown",
   "id": "58479efc",
   "metadata": {},
   "source": [
    "we will use this code to check the accuracy of the SARIMAX model to compare with(ANN,SARIMA AND LOGISTIC REGRESSION) other models .  we are doing this to select the best two models among SARIMA, ANN,SARIMAX AND LOGISTIC REGRESSION.(NOTE: # we are testing our model and our model will only predict whether next day is a peak day or not. so we will only forecast one day add actual data of that day to train data to retrain)"
   ]
  },
  {
   "cell_type": "code",
   "execution_count": 2,
   "id": "85db5421",
   "metadata": {
    "scrolled": true
   },
   "outputs": [
    {
     "name": "stdout",
     "output_type": "stream",
     "text": [
      "Loading data...\n",
      "Training SARIMA model on the full training dataset...\n",
      "Model training completed.\n",
      "\n",
      "Generating rolling forecasts for the test period...\n",
      "Forecasting for 2021-04-01 00:00:00...\n",
      "Retraining model with updated training data...\n"
     ]
    },
    {
     "name": "stderr",
     "output_type": "stream",
     "text": [
      "/var/folders/tn/v941jp4540374j7s4hp2b37w0000gn/T/ipykernel_46337/1967700585.py:78: FutureWarning: The behavior of DataFrame concatenation with empty or all-NA entries is deprecated. In a future version, this will no longer exclude empty or all-NA columns when determining the result dtypes. To retain the old behavior, exclude the relevant entries before the concat operation.\n",
      "  comparison_df = pd.concat([comparison_df, new_row], ignore_index=True)\n"
     ]
    },
    {
     "name": "stdout",
     "output_type": "stream",
     "text": [
      "Forecasting for 2021-04-02 00:00:00...\n",
      "Retraining model with updated training data...\n",
      "Forecasting for 2021-04-03 00:00:00...\n",
      "Retraining model with updated training data...\n",
      "Forecasting for 2021-04-04 00:00:00...\n",
      "Retraining model with updated training data...\n",
      "Forecasting for 2021-04-05 00:00:00...\n",
      "Retraining model with updated training data...\n",
      "Forecasting for 2021-04-06 00:00:00...\n",
      "Retraining model with updated training data...\n",
      "Forecasting for 2021-04-07 00:00:00...\n",
      "Retraining model with updated training data...\n"
     ]
    },
    {
     "name": "stderr",
     "output_type": "stream",
     "text": [
      "/Users/sivakumar/anaconda3/lib/python3.11/site-packages/statsmodels/base/model.py:607: ConvergenceWarning: Maximum Likelihood optimization failed to converge. Check mle_retvals\n",
      "  warnings.warn(\"Maximum Likelihood optimization failed to \"\n"
     ]
    },
    {
     "name": "stdout",
     "output_type": "stream",
     "text": [
      "Forecasting for 2021-04-08 00:00:00...\n",
      "Retraining model with updated training data...\n"
     ]
    },
    {
     "name": "stderr",
     "output_type": "stream",
     "text": [
      "/Users/sivakumar/anaconda3/lib/python3.11/site-packages/statsmodels/base/model.py:607: ConvergenceWarning: Maximum Likelihood optimization failed to converge. Check mle_retvals\n",
      "  warnings.warn(\"Maximum Likelihood optimization failed to \"\n"
     ]
    },
    {
     "name": "stdout",
     "output_type": "stream",
     "text": [
      "Forecasting for 2021-04-09 00:00:00...\n",
      "Retraining model with updated training data...\n",
      "Forecasting for 2021-04-10 00:00:00...\n",
      "Retraining model with updated training data...\n"
     ]
    },
    {
     "name": "stderr",
     "output_type": "stream",
     "text": [
      "/Users/sivakumar/anaconda3/lib/python3.11/site-packages/statsmodels/base/model.py:607: ConvergenceWarning: Maximum Likelihood optimization failed to converge. Check mle_retvals\n",
      "  warnings.warn(\"Maximum Likelihood optimization failed to \"\n"
     ]
    },
    {
     "name": "stdout",
     "output_type": "stream",
     "text": [
      "Forecasting for 2021-04-11 00:00:00...\n",
      "Retraining model with updated training data...\n",
      "Forecasting for 2021-04-12 00:00:00...\n",
      "Retraining model with updated training data...\n"
     ]
    },
    {
     "name": "stderr",
     "output_type": "stream",
     "text": [
      "/Users/sivakumar/anaconda3/lib/python3.11/site-packages/statsmodels/base/model.py:607: ConvergenceWarning: Maximum Likelihood optimization failed to converge. Check mle_retvals\n",
      "  warnings.warn(\"Maximum Likelihood optimization failed to \"\n"
     ]
    },
    {
     "name": "stdout",
     "output_type": "stream",
     "text": [
      "Forecasting for 2021-04-13 00:00:00...\n",
      "Retraining model with updated training data...\n",
      "Forecasting for 2021-04-14 00:00:00...\n",
      "Retraining model with updated training data...\n",
      "Forecasting for 2021-04-15 00:00:00...\n",
      "Retraining model with updated training data...\n",
      "Forecasting for 2021-04-16 00:00:00...\n",
      "Retraining model with updated training data...\n"
     ]
    },
    {
     "name": "stderr",
     "output_type": "stream",
     "text": [
      "/Users/sivakumar/anaconda3/lib/python3.11/site-packages/statsmodels/base/model.py:607: ConvergenceWarning: Maximum Likelihood optimization failed to converge. Check mle_retvals\n",
      "  warnings.warn(\"Maximum Likelihood optimization failed to \"\n"
     ]
    },
    {
     "name": "stdout",
     "output_type": "stream",
     "text": [
      "Forecasting for 2021-04-17 00:00:00...\n",
      "Retraining model with updated training data...\n",
      "Forecasting for 2021-04-18 00:00:00...\n",
      "Retraining model with updated training data...\n",
      "Forecasting for 2021-04-19 00:00:00...\n",
      "Retraining model with updated training data...\n",
      "Forecasting for 2021-04-20 00:00:00...\n",
      "Retraining model with updated training data...\n"
     ]
    },
    {
     "name": "stderr",
     "output_type": "stream",
     "text": [
      "/Users/sivakumar/anaconda3/lib/python3.11/site-packages/statsmodels/base/model.py:607: ConvergenceWarning: Maximum Likelihood optimization failed to converge. Check mle_retvals\n",
      "  warnings.warn(\"Maximum Likelihood optimization failed to \"\n"
     ]
    },
    {
     "name": "stdout",
     "output_type": "stream",
     "text": [
      "Forecasting for 2021-04-21 00:00:00...\n",
      "Retraining model with updated training data...\n"
     ]
    },
    {
     "name": "stderr",
     "output_type": "stream",
     "text": [
      "/Users/sivakumar/anaconda3/lib/python3.11/site-packages/statsmodels/base/model.py:607: ConvergenceWarning: Maximum Likelihood optimization failed to converge. Check mle_retvals\n",
      "  warnings.warn(\"Maximum Likelihood optimization failed to \"\n"
     ]
    },
    {
     "name": "stdout",
     "output_type": "stream",
     "text": [
      "Forecasting for 2021-04-22 00:00:00...\n",
      "Retraining model with updated training data...\n"
     ]
    },
    {
     "name": "stderr",
     "output_type": "stream",
     "text": [
      "/Users/sivakumar/anaconda3/lib/python3.11/site-packages/statsmodels/base/model.py:607: ConvergenceWarning: Maximum Likelihood optimization failed to converge. Check mle_retvals\n",
      "  warnings.warn(\"Maximum Likelihood optimization failed to \"\n"
     ]
    },
    {
     "name": "stdout",
     "output_type": "stream",
     "text": [
      "Forecasting for 2021-04-23 00:00:00...\n",
      "Retraining model with updated training data...\n",
      "Forecasting for 2021-04-24 00:00:00...\n",
      "Retraining model with updated training data...\n"
     ]
    },
    {
     "name": "stderr",
     "output_type": "stream",
     "text": [
      "/Users/sivakumar/anaconda3/lib/python3.11/site-packages/statsmodels/base/model.py:607: ConvergenceWarning: Maximum Likelihood optimization failed to converge. Check mle_retvals\n",
      "  warnings.warn(\"Maximum Likelihood optimization failed to \"\n"
     ]
    },
    {
     "name": "stdout",
     "output_type": "stream",
     "text": [
      "Forecasting for 2021-04-25 00:00:00...\n",
      "Retraining model with updated training data...\n",
      "Forecasting for 2021-04-26 00:00:00...\n",
      "Retraining model with updated training data...\n",
      "Forecasting for 2021-04-27 00:00:00...\n",
      "Retraining model with updated training data...\n"
     ]
    },
    {
     "name": "stderr",
     "output_type": "stream",
     "text": [
      "/Users/sivakumar/anaconda3/lib/python3.11/site-packages/statsmodels/base/model.py:607: ConvergenceWarning: Maximum Likelihood optimization failed to converge. Check mle_retvals\n",
      "  warnings.warn(\"Maximum Likelihood optimization failed to \"\n"
     ]
    },
    {
     "name": "stdout",
     "output_type": "stream",
     "text": [
      "Forecasting for 2021-04-28 00:00:00...\n",
      "Retraining model with updated training data...\n",
      "Forecasting for 2021-04-29 00:00:00...\n",
      "Retraining model with updated training data...\n"
     ]
    },
    {
     "name": "stderr",
     "output_type": "stream",
     "text": [
      "/Users/sivakumar/anaconda3/lib/python3.11/site-packages/statsmodels/base/model.py:607: ConvergenceWarning: Maximum Likelihood optimization failed to converge. Check mle_retvals\n",
      "  warnings.warn(\"Maximum Likelihood optimization failed to \"\n"
     ]
    },
    {
     "name": "stdout",
     "output_type": "stream",
     "text": [
      "Forecasting for 2021-04-30 00:00:00...\n",
      "Retraining model with updated training data...\n",
      "\n",
      "Mean Absolute Deviation (MAD): 953.60\n",
      "Mean Absolute Percentage Error (MAPE): 9.04%\n",
      "\n",
      "Daily Forecasts for Test Range (12 AM to 11:30 PM):\n",
      "        Date and Time   Actual      Forecast\n",
      "0 2021-04-01 00:00:00  10326.0  10427.255900\n",
      "1 2021-04-01 00:30:00  10029.0  10072.374523\n",
      "2 2021-04-01 01:00:00   9732.0   9843.946914\n",
      "3 2021-04-01 01:30:00   9585.5   9526.322917\n",
      "4 2021-04-01 02:00:00   9439.0   9343.779783\n"
     ]
    }
   ],
   "source": [
    "# Suppress warnings\n",
    "warnings.filterwarnings(\"ignore\", message=\"Optimization failed to converge\")\n",
    "\n",
    "# Loading the data\n",
    "file_path = 'Database_1_capped.csv'  \n",
    "print(\"Loading data...\")\n",
    "data = pd.read_csv(file_path)\n",
    "\n",
    "# Converting 'Date and Time' to datetime \n",
    "data['Date and Time'] = pd.to_datetime(data['Date and Time'], format='%d/%m/%Y %H:%M', errors='coerce')\n",
    "data.dropna(subset=['Date and Time'], inplace=True)\n",
    "data.set_index('Date and Time', inplace=True)\n",
    "data = data.asfreq('30T')  \n",
    "# Defining exogenous variables and target variable\n",
    "exog_vars = ['Temperature', 'DHI', 'GHI', 'DNI', 'Relative Humidity', 'Wind Speed', 'Holiday', 'Season']\n",
    "data['Log_Demand'] = np.log(data['Demand_Capped'] + 1)  # Log transformation to stabilize variance\n",
    "target_series = data['Log_Demand']\n",
    "\n",
    "# Spliting the data into training and testing sets\n",
    "train_start = '2020-04-01'\n",
    "train_end = '2021-03-31'\n",
    "test_start = '2021-04-01'\n",
    "test_end = '2021-04-30'\n",
    "\n",
    "train_data = target_series[train_start:train_end]\n",
    "test_dates = pd.date_range(start=test_start, end=test_end, freq='D')\n",
    "train_exog = data[exog_vars][train_start:train_end]\n",
    "\n",
    "# Training the SARIMA model with exogenous variables once\n",
    "print(\"Training SARIMA model on the full training dataset...\")\n",
    "model = SARIMAX(\n",
    "    train_data,\n",
    "    exog=train_exog,\n",
    "    order=(4, 1, 3),\n",
    "    seasonal_order=(1, 0, 1, 24),\n",
    "    enforce_stationarity=False,\n",
    "    enforce_invertibility=False\n",
    ")\n",
    "fitted_model = model.fit(disp=False, maxiter=500, method='lbfgs')\n",
    "print(\"Model training completed.\\n\")\n",
    "\n",
    "# Initializing a DataFrame to store actual and forecasted values\n",
    "comparison_df = pd.DataFrame(columns=['Date and Time', 'Actual', 'Forecast'])\n",
    "\n",
    "# Generating rolling forecasts for the entire test period\n",
    "print(\"Generating rolling forecasts for the test period...\")\n",
    "for forecast_date in test_dates:\n",
    "    print(f\"Forecasting for {forecast_date}...\")\n",
    "\n",
    "    # Defining the forecast range for the next day (48 intervals for one day)\n",
    "    forecast_range = pd.date_range(start=forecast_date, periods=48, freq='30T')\n",
    "\n",
    "    # Defining exogenous variables for the forecast range from the test set\n",
    "    forecast_exog = data[exog_vars].loc[forecast_range]\n",
    "\n",
    "    # Generating forecasts\n",
    "    forecast = fitted_model.get_forecast(steps=48, exog=forecast_exog)\n",
    "    forecast_mean = forecast.predicted_mean\n",
    "    forecast_series = pd.Series(np.exp(forecast_mean) - 1, index=forecast_range)  # Reverse log transformation\n",
    "\n",
    "    # Storing the forecast for the current day\n",
    "    for forecast_time in forecast_range:\n",
    "        actual = data['Demand_Capped'][forecast_time] if forecast_time in data.index else None\n",
    "        forecast_value = forecast_series[forecast_time]\n",
    "        new_row = pd.DataFrame({\n",
    "            'Date and Time': [forecast_time],\n",
    "            'Actual': [actual],\n",
    "            'Forecast': [forecast_value]\n",
    "        })\n",
    "        comparison_df = pd.concat([comparison_df, new_row], ignore_index=True)\n",
    "\n",
    "    # Appending the actual data from the test set for the forecasted date to the training data\n",
    "    actual_data_for_day = data['Log_Demand'].loc[forecast_range]  # Get actual test data for the forecast day\n",
    "    train_data = pd.concat([train_data, actual_data_for_day])\n",
    "\n",
    "    # Appending exogenous variables for the forecasted day from the test set to the training exogenous data\n",
    "    train_exog = pd.concat([train_exog, forecast_exog])\n",
    "\n",
    "    # Retraining the model with the updated training data\n",
    "    print(\"Retraining model with updated training data...\")\n",
    "    model = SARIMAX(\n",
    "        train_data,\n",
    "        exog=train_exog,\n",
    "        order=(4, 1, 3),\n",
    "        seasonal_order=(1, 0, 1, 24),\n",
    "        enforce_stationarity=False,\n",
    "        enforce_invertibility=False\n",
    "    )\n",
    "    fitted_model = model.fit(disp=False, maxiter=500, method='lbfgs')\n",
    "\n",
    "# Calculating MAD and MAPE for the entire dataset\n",
    "comparison_df.dropna(subset=['Actual'], inplace=True)\n",
    "mad = (comparison_df['Actual'] - comparison_df['Forecast']).abs().mean()\n",
    "mape = ((comparison_df['Actual'] - comparison_df['Forecast']).abs() / comparison_df['Actual']).mean() * 100\n",
    "\n",
    "# Displaying MAD and MAPE\n",
    "print(f\"\\nMean Absolute Deviation (MAD): {mad:.2f}\")\n",
    "print(f\"Mean Absolute Percentage Error (MAPE): {mape:.2f}%\")\n",
    "\n",
    "# Saving results to CSV\n",
    "comparison_df.to_csv('sarima_rolling_forecast_with_exog.csv', index=False)\n",
    "\n",
    "# Printing the forecasted values for the test range\n",
    "print(\"\\nDaily Forecasts for Test Range (12 AM to 11:30 PM):\")\n",
    "print(comparison_df.head())\n"
   ]
  },
  {
   "cell_type": "markdown",
   "id": "1409a395",
   "metadata": {},
   "source": [
    "### We got Mean Absolute Deviation (MAD): 953.60 and Mean Absolute Percentage Error (MAPE): 9.04% for SARIMAX model.\n",
    "its not performing well compared to other models so we are excluding this from inclusion in hybrid model."
   ]
  },
  {
   "cell_type": "code",
   "execution_count": null,
   "id": "0236a4b8",
   "metadata": {},
   "outputs": [],
   "source": [
    "print(fitted_model.summary())"
   ]
  }
 ],
 "metadata": {
  "kernelspec": {
   "display_name": "Python 3 (ipykernel)",
   "language": "python",
   "name": "python3"
  },
  "language_info": {
   "codemirror_mode": {
    "name": "ipython",
    "version": 3
   },
   "file_extension": ".py",
   "mimetype": "text/x-python",
   "name": "python",
   "nbconvert_exporter": "python",
   "pygments_lexer": "ipython3",
   "version": "3.11.5"
  }
 },
 "nbformat": 4,
 "nbformat_minor": 5
}
